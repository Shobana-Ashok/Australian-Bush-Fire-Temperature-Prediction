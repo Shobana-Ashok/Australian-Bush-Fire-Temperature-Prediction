{
  "cells": [
    {
      "metadata": {},
      "cell_type": "markdown",
      "source": "##### AUSTRALIAN BUSH FIRE TEMPERATURE PREDICTION"
    },
    {
      "metadata": {
        "trusted": true
      },
      "cell_type": "code",
      "source": "!pip install reverse_geocoder",
      "execution_count": 2,
      "outputs": [
        {
          "output_type": "stream",
          "text": "Collecting reverse_geocoder\n\u001b[?25l  Downloading https://files.pythonhosted.org/packages/0b/0f/b7d5d4b36553731f11983e19e1813a1059ad0732c5162c01b3220c927d31/reverse_geocoder-1.5.1.tar.gz (2.2MB)\n\u001b[K     |████████████████████████████████| 2.3MB 79kB/s  eta 0:00:01     |████▍                           | 307kB 1.9MB/s eta 0:00:01\n\u001b[?25hRequirement already satisfied: numpy>=1.11.0 in /home/nbuser/anaconda3_501/lib/python3.6/site-packages (from reverse_geocoder) (1.16.2)\nRequirement already satisfied: scipy>=0.17.1 in /home/nbuser/anaconda3_501/lib/python3.6/site-packages (from reverse_geocoder) (1.1.0)\nBuilding wheels for collected packages: reverse-geocoder\n  Building wheel for reverse-geocoder (setup.py) ... \u001b[?25ldone\n\u001b[?25h  Created wheel for reverse-geocoder: filename=reverse_geocoder-1.5.1-cp36-none-any.whl size=2269502 sha256=32c3dd64a9a12de25ffcb83f54381e0939b3a1ae294dc560cc3dbba7ce36c8c7\n  Stored in directory: /home/nbuser/.cache/pip/wheels/47/05/50/b1350ff094ef91e082665b4a2f9ca551f8acea4aa55d796b26\nSuccessfully built reverse-geocoder\nInstalling collected packages: reverse-geocoder\nSuccessfully installed reverse-geocoder-1.5.1\n\u001b[33mWARNING: You are using pip version 19.3.1; however, version 20.1.1 is available.\nYou should consider upgrading via the 'pip install --upgrade pip' command.\u001b[0m\n",
          "name": "stdout"
        }
      ]
    },
    {
      "metadata": {
        "trusted": true
      },
      "cell_type": "code",
      "source": "import pandas as pd\nimport seaborn as sb\nimport reverse_geocoder as rg",
      "execution_count": 3,
      "outputs": []
    },
    {
      "metadata": {
        "trusted": true
      },
      "cell_type": "code",
      "source": "#Read the dataset \ndf= pd.read_csv('fire_archive_M6_96619.csv')\ndf.head()",
      "execution_count": 4,
      "outputs": [
        {
          "output_type": "execute_result",
          "execution_count": 4,
          "data": {
            "text/html": "<div>\n<style scoped>\n    .dataframe tbody tr th:only-of-type {\n        vertical-align: middle;\n    }\n\n    .dataframe tbody tr th {\n        vertical-align: top;\n    }\n\n    .dataframe thead th {\n        text-align: right;\n    }\n</style>\n<table border=\"1\" class=\"dataframe\">\n  <thead>\n    <tr style=\"text-align: right;\">\n      <th></th>\n      <th>latitude</th>\n      <th>longitude</th>\n      <th>brightness</th>\n      <th>scan</th>\n      <th>track</th>\n      <th>acq_date</th>\n      <th>acq_time</th>\n      <th>satellite</th>\n      <th>instrument</th>\n      <th>confidence</th>\n      <th>version</th>\n      <th>bright_t31</th>\n      <th>frp</th>\n      <th>daynight</th>\n      <th>type</th>\n    </tr>\n  </thead>\n  <tbody>\n    <tr>\n      <th>0</th>\n      <td>-11.8070</td>\n      <td>142.0583</td>\n      <td>313.0</td>\n      <td>1.0</td>\n      <td>1.0</td>\n      <td>2019-08-01</td>\n      <td>56</td>\n      <td>Terra</td>\n      <td>MODIS</td>\n      <td>48</td>\n      <td>6.3</td>\n      <td>297.3</td>\n      <td>6.6</td>\n      <td>D</td>\n      <td>0</td>\n    </tr>\n    <tr>\n      <th>1</th>\n      <td>-11.7924</td>\n      <td>142.0850</td>\n      <td>319.3</td>\n      <td>1.0</td>\n      <td>1.0</td>\n      <td>2019-08-01</td>\n      <td>56</td>\n      <td>Terra</td>\n      <td>MODIS</td>\n      <td>71</td>\n      <td>6.3</td>\n      <td>297.3</td>\n      <td>11.3</td>\n      <td>D</td>\n      <td>0</td>\n    </tr>\n    <tr>\n      <th>2</th>\n      <td>-12.8398</td>\n      <td>132.8744</td>\n      <td>311.6</td>\n      <td>3.1</td>\n      <td>1.7</td>\n      <td>2019-08-01</td>\n      <td>57</td>\n      <td>Terra</td>\n      <td>MODIS</td>\n      <td>42</td>\n      <td>6.3</td>\n      <td>298.7</td>\n      <td>23.1</td>\n      <td>D</td>\n      <td>0</td>\n    </tr>\n    <tr>\n      <th>3</th>\n      <td>-14.4306</td>\n      <td>143.3035</td>\n      <td>310.1</td>\n      <td>1.1</td>\n      <td>1.1</td>\n      <td>2019-08-01</td>\n      <td>57</td>\n      <td>Terra</td>\n      <td>MODIS</td>\n      <td>33</td>\n      <td>6.3</td>\n      <td>296.1</td>\n      <td>6.5</td>\n      <td>D</td>\n      <td>0</td>\n    </tr>\n    <tr>\n      <th>4</th>\n      <td>-12.4953</td>\n      <td>131.4897</td>\n      <td>310.3</td>\n      <td>4.0</td>\n      <td>1.9</td>\n      <td>2019-08-01</td>\n      <td>57</td>\n      <td>Terra</td>\n      <td>MODIS</td>\n      <td>36</td>\n      <td>6.3</td>\n      <td>298.8</td>\n      <td>27.6</td>\n      <td>D</td>\n      <td>0</td>\n    </tr>\n  </tbody>\n</table>\n</div>",
            "text/plain": "   latitude  longitude  brightness  scan  track    acq_date  acq_time  \\\n0  -11.8070   142.0583       313.0   1.0    1.0  2019-08-01        56   \n1  -11.7924   142.0850       319.3   1.0    1.0  2019-08-01        56   \n2  -12.8398   132.8744       311.6   3.1    1.7  2019-08-01        57   \n3  -14.4306   143.3035       310.1   1.1    1.1  2019-08-01        57   \n4  -12.4953   131.4897       310.3   4.0    1.9  2019-08-01        57   \n\n  satellite instrument  confidence  version  bright_t31   frp daynight  type  \n0     Terra      MODIS          48      6.3       297.3   6.6        D     0  \n1     Terra      MODIS          71      6.3       297.3  11.3        D     0  \n2     Terra      MODIS          42      6.3       298.7  23.1        D     0  \n3     Terra      MODIS          33      6.3       296.1   6.5        D     0  \n4     Terra      MODIS          36      6.3       298.8  27.6        D     0  "
          },
          "metadata": {}
        }
      ]
    },
    {
      "metadata": {
        "trusted": true
      },
      "cell_type": "code",
      "source": "#determine the dimension of the dataset\ndf.shape",
      "execution_count": 5,
      "outputs": [
        {
          "output_type": "execute_result",
          "execution_count": 5,
          "data": {
            "text/plain": "(36011, 15)"
          },
          "metadata": {}
        }
      ]
    },
    {
      "metadata": {
        "trusted": true
      },
      "cell_type": "code",
      "source": "#determine whether there are any null values in the dataset\ndf.isnull().values.any()",
      "execution_count": 6,
      "outputs": [
        {
          "output_type": "execute_result",
          "execution_count": 6,
          "data": {
            "text/plain": "False"
          },
          "metadata": {}
        }
      ]
    },
    {
      "metadata": {
        "trusted": true
      },
      "cell_type": "code",
      "source": "#create a new DataFrame which contains only the necessary columns\ndf = pd.DataFrame(df, columns = ['latitude','longitude','daynight','frp','confidence','brightness']) \ndf.head()",
      "execution_count": 7,
      "outputs": [
        {
          "output_type": "execute_result",
          "execution_count": 7,
          "data": {
            "text/html": "<div>\n<style scoped>\n    .dataframe tbody tr th:only-of-type {\n        vertical-align: middle;\n    }\n\n    .dataframe tbody tr th {\n        vertical-align: top;\n    }\n\n    .dataframe thead th {\n        text-align: right;\n    }\n</style>\n<table border=\"1\" class=\"dataframe\">\n  <thead>\n    <tr style=\"text-align: right;\">\n      <th></th>\n      <th>latitude</th>\n      <th>longitude</th>\n      <th>daynight</th>\n      <th>frp</th>\n      <th>confidence</th>\n      <th>brightness</th>\n    </tr>\n  </thead>\n  <tbody>\n    <tr>\n      <th>0</th>\n      <td>-11.8070</td>\n      <td>142.0583</td>\n      <td>D</td>\n      <td>6.6</td>\n      <td>48</td>\n      <td>313.0</td>\n    </tr>\n    <tr>\n      <th>1</th>\n      <td>-11.7924</td>\n      <td>142.0850</td>\n      <td>D</td>\n      <td>11.3</td>\n      <td>71</td>\n      <td>319.3</td>\n    </tr>\n    <tr>\n      <th>2</th>\n      <td>-12.8398</td>\n      <td>132.8744</td>\n      <td>D</td>\n      <td>23.1</td>\n      <td>42</td>\n      <td>311.6</td>\n    </tr>\n    <tr>\n      <th>3</th>\n      <td>-14.4306</td>\n      <td>143.3035</td>\n      <td>D</td>\n      <td>6.5</td>\n      <td>33</td>\n      <td>310.1</td>\n    </tr>\n    <tr>\n      <th>4</th>\n      <td>-12.4953</td>\n      <td>131.4897</td>\n      <td>D</td>\n      <td>27.6</td>\n      <td>36</td>\n      <td>310.3</td>\n    </tr>\n  </tbody>\n</table>\n</div>",
            "text/plain": "   latitude  longitude daynight   frp  confidence  brightness\n0  -11.8070   142.0583        D   6.6          48       313.0\n1  -11.7924   142.0850        D  11.3          71       319.3\n2  -12.8398   132.8744        D  23.1          42       311.6\n3  -14.4306   143.3035        D   6.5          33       310.1\n4  -12.4953   131.4897        D  27.6          36       310.3"
          },
          "metadata": {}
        }
      ]
    },
    {
      "metadata": {
        "trusted": true
      },
      "cell_type": "code",
      "source": "#Next step is to convert the latitude & longitude coordinates into their corresponding State name for easy identificatin\n#It can be done using Reverse_Geocoder module\nsubset = df[['latitude', 'longitude']]\ncoordinates = [tuple(x) for x in subset.values]\n#Print the first 5 coordinates\ncoordinates[0:5]",
      "execution_count": 8,
      "outputs": [
        {
          "output_type": "execute_result",
          "execution_count": 8,
          "data": {
            "text/plain": "[(-11.807, 142.0583),\n (-11.7924, 142.085),\n (-12.8398, 132.8744),\n (-14.4306, 143.3035),\n (-12.4953, 131.4897)]"
          },
          "metadata": {}
        }
      ]
    },
    {
      "metadata": {
        "trusted": true
      },
      "cell_type": "code",
      "source": "#pass the coordinated values of type list to the reverse_geocoder\nresult = rg.search(coordinates)\n#get the values from the result and store in a separate column \"Location\"\ni = 0\nrow_count = df.shape[0] #return the total number of rows\nLocation = [] #empty list\n#the while loop will execute until the value of i<row_count i.e., 36011\nwhile(i<row_count):\n    Location.append(result[i]['admin1']) # append the empty list with the result from the reverse_geocoder\n    i += 1\n#store the location values in a separate column \"Location\"    \ndf[\"State\"] = Location\n#df = pd.DataFrame(df, columns = ['brightness','daynight','type','Location']) \ndf.head()",
      "execution_count": 9,
      "outputs": [
        {
          "output_type": "stream",
          "text": "Loading formatted geocoded file...\n",
          "name": "stdout"
        },
        {
          "output_type": "execute_result",
          "execution_count": 9,
          "data": {
            "text/html": "<div>\n<style scoped>\n    .dataframe tbody tr th:only-of-type {\n        vertical-align: middle;\n    }\n\n    .dataframe tbody tr th {\n        vertical-align: top;\n    }\n\n    .dataframe thead th {\n        text-align: right;\n    }\n</style>\n<table border=\"1\" class=\"dataframe\">\n  <thead>\n    <tr style=\"text-align: right;\">\n      <th></th>\n      <th>latitude</th>\n      <th>longitude</th>\n      <th>daynight</th>\n      <th>frp</th>\n      <th>confidence</th>\n      <th>brightness</th>\n      <th>State</th>\n    </tr>\n  </thead>\n  <tbody>\n    <tr>\n      <th>0</th>\n      <td>-11.8070</td>\n      <td>142.0583</td>\n      <td>D</td>\n      <td>6.6</td>\n      <td>48</td>\n      <td>313.0</td>\n      <td>Queensland</td>\n    </tr>\n    <tr>\n      <th>1</th>\n      <td>-11.7924</td>\n      <td>142.0850</td>\n      <td>D</td>\n      <td>11.3</td>\n      <td>71</td>\n      <td>319.3</td>\n      <td>Queensland</td>\n    </tr>\n    <tr>\n      <th>2</th>\n      <td>-12.8398</td>\n      <td>132.8744</td>\n      <td>D</td>\n      <td>23.1</td>\n      <td>42</td>\n      <td>311.6</td>\n      <td>Northern Territory</td>\n    </tr>\n    <tr>\n      <th>3</th>\n      <td>-14.4306</td>\n      <td>143.3035</td>\n      <td>D</td>\n      <td>6.5</td>\n      <td>33</td>\n      <td>310.1</td>\n      <td>Queensland</td>\n    </tr>\n    <tr>\n      <th>4</th>\n      <td>-12.4953</td>\n      <td>131.4897</td>\n      <td>D</td>\n      <td>27.6</td>\n      <td>36</td>\n      <td>310.3</td>\n      <td>Northern Territory</td>\n    </tr>\n  </tbody>\n</table>\n</div>",
            "text/plain": "   latitude  longitude daynight   frp  confidence  brightness  \\\n0  -11.8070   142.0583        D   6.6          48       313.0   \n1  -11.7924   142.0850        D  11.3          71       319.3   \n2  -12.8398   132.8744        D  23.1          42       311.6   \n3  -14.4306   143.3035        D   6.5          33       310.1   \n4  -12.4953   131.4897        D  27.6          36       310.3   \n\n                State  \n0          Queensland  \n1          Queensland  \n2  Northern Territory  \n3          Queensland  \n4  Northern Territory  "
          },
          "metadata": {}
        }
      ]
    },
    {
      "metadata": {},
      "cell_type": "markdown",
      "source": "#### VISUALIZATION OF BUSHFIRE DATA"
    },
    {
      "metadata": {
        "trusted": true
      },
      "cell_type": "code",
      "source": "df.State.unique()\n#The number of bush fires recorded per State\ndf['State'].value_counts()",
      "execution_count": 10,
      "outputs": [
        {
          "output_type": "execute_result",
          "execution_count": 10,
          "data": {
            "text/plain": "Northern Territory              14462\nQueensland                      10172\nNew South Wales                  6547\nWestern Australia                4417\nSouth Australia                   178\nTasmania                          125\nVictoria                          109\nAustralian Capital Territory        1\nName: State, dtype: int64"
          },
          "metadata": {}
        }
      ]
    },
    {
      "metadata": {
        "trusted": true
      },
      "cell_type": "code",
      "source": "#Brightness temperature per State\nsb.barplot(x='brightness', y='State', data=df)",
      "execution_count": 11,
      "outputs": [
        {
          "output_type": "stream",
          "text": "/home/nbuser/anaconda3_501/lib/python3.6/site-packages/scipy/stats/stats.py:1713: FutureWarning: Using a non-tuple sequence for multidimensional indexing is deprecated; use `arr[tuple(seq)]` instead of `arr[seq]`. In the future this will be interpreted as an array index, `arr[np.array(seq)]`, which will result either in an error or a different result.\n  return np.add.reduce(sorted[indexer] * weights, axis=axis) / sumval\n",
          "name": "stderr"
        },
        {
          "output_type": "execute_result",
          "execution_count": 11,
          "data": {
            "text/plain": "<matplotlib.axes._subplots.AxesSubplot at 0x7f9c3b475b70>"
          },
          "metadata": {}
        },
        {
          "output_type": "display_data",
          "data": {
            "image/png": "[encoded data removed]",
            "text/plain": "<Figure size 432x288 with 1 Axes>"
          },
          "metadata": {
            "needs_background": "light"
          }
        }
      ]
    },
    {
      "metadata": {
        "trusted": true
      },
      "cell_type": "code",
      "source": "sb.countplot(y='State', data=df)",
      "execution_count": 12,
      "outputs": [
        {
          "output_type": "execute_result",
          "execution_count": 12,
          "data": {
            "text/plain": "<matplotlib.axes._subplots.AxesSubplot at 0x7f9c3b21bf60>"
          },
          "metadata": {}
        },
        {
          "output_type": "display_data",
          "data": {
            "image/png": "[encoded data removed]",
            "text/plain": "<Figure size 432x288 with 1 Axes>"
          },
          "metadata": {
            "needs_background": "light"
          }
        }
      ]
    },
    {
      "metadata": {},
      "cell_type": "markdown",
      "source": "#"
    }
  ],
  "metadata": {
    "kernelspec": {
      "name": "python36",
      "display_name": "Python 3.6",
      "language": "python"
    },
    "language_info": {
      "mimetype": "text/x-python",
      "nbconvert_exporter": "python",
      "name": "python",
      "pygments_lexer": "ipython3",
      "version": "3.6.6",
      "file_extension": ".py",
      "codemirror_mode": {
        "version": 3,
        "name": "ipython"
      }
    }
  },
  "nbformat": 4,
  "nbformat_minor": 2
}