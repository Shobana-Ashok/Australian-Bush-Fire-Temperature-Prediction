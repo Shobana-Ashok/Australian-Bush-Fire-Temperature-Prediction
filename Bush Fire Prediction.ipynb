{
  "cells": [
    {
      "metadata": {},
      "cell_type": "markdown",
      "source": "##### AUSTRALIAN BUSH FIRE TEMPERATURE PREDICTION"
    },
    {
      "metadata": {
        "trusted": true
      },
      "cell_type": "code",
      "source": "!pip install reverse_geocoder",
      "execution_count": 2,
      "outputs": [
        {
          "output_type": "stream",
          "text": "Collecting reverse_geocoder\n\u001b[?25l  Downloading https://files.pythonhosted.org/packages/0b/0f/b7d5d4b36553731f11983e19e1813a1059ad0732c5162c01b3220c927d31/reverse_geocoder-1.5.1.tar.gz (2.2MB)\n\u001b[K     |████████████████████████████████| 2.3MB 79kB/s  eta 0:00:01     |████▍                           | 307kB 1.9MB/s eta 0:00:01\n\u001b[?25hRequirement already satisfied: numpy>=1.11.0 in /home/nbuser/anaconda3_501/lib/python3.6/site-packages (from reverse_geocoder) (1.16.2)\nRequirement already satisfied: scipy>=0.17.1 in /home/nbuser/anaconda3_501/lib/python3.6/site-packages (from reverse_geocoder) (1.1.0)\nBuilding wheels for collected packages: reverse-geocoder\n  Building wheel for reverse-geocoder (setup.py) ... \u001b[?25ldone\n\u001b[?25h  Created wheel for reverse-geocoder: filename=reverse_geocoder-1.5.1-cp36-none-any.whl size=2269502 sha256=32c3dd64a9a12de25ffcb83f54381e0939b3a1ae294dc560cc3dbba7ce36c8c7\n  Stored in directory: /home/nbuser/.cache/pip/wheels/47/05/50/b1350ff094ef91e082665b4a2f9ca551f8acea4aa55d796b26\nSuccessfully built reverse-geocoder\nInstalling collected packages: reverse-geocoder\nSuccessfully installed reverse-geocoder-1.5.1\n\u001b[33mWARNING: You are using pip version 19.3.1; however, version 20.1.1 is available.\nYou should consider upgrading via the 'pip install --upgrade pip' command.\u001b[0m\n",
          "name": "stdout"
        }
      ]
    },
    {
      "metadata": {
        "trusted": true
      },
      "cell_type": "code",
      "source": "import pandas as pd\nimport numpy as np\nimport seaborn as sb\nimport reverse_geocoder as rg\nfrom sklearn.model_selection import train_test_split\nfrom sklearn.neighbors import KNeighborsClassifier\nfrom sklearn.metrics import mean_absolute_error\nfrom sklearn.model_selection import cross_val_score\nfrom sklearn.model_selection import GridSearchCV\nfrom sklearn.tree import DecisionTreeClassifier\nfrom sklearn.ensemble import RandomForestClassifier\nfrom sklearn.metrics import confusion_matrix\nfrom sklearn.metrics import classification_report",
      "execution_count": 21,
      "outputs": []
    },
    {
      "metadata": {
        "trusted": true
      },
      "cell_type": "code",
      "source": "#Read the dataset \ndf= pd.read_csv('fire_archive_M6_96619.csv')\ndf.head()",
      "execution_count": 22,
      "outputs": [
        {
          "output_type": "execute_result",
          "execution_count": 22,
          "data": {
            "text/html": "<div>\n<style scoped>\n    .dataframe tbody tr th:only-of-type {\n        vertical-align: middle;\n    }\n\n    .dataframe tbody tr th {\n        vertical-align: top;\n    }\n\n    .dataframe thead th {\n        text-align: right;\n    }\n</style>\n<table border=\"1\" class=\"dataframe\">\n  <thead>\n    <tr style=\"text-align: right;\">\n      <th></th>\n      <th>latitude</th>\n      <th>longitude</th>\n      <th>brightness</th>\n      <th>scan</th>\n      <th>track</th>\n      <th>acq_date</th>\n      <th>acq_time</th>\n      <th>satellite</th>\n      <th>instrument</th>\n      <th>confidence</th>\n      <th>version</th>\n      <th>bright_t31</th>\n      <th>frp</th>\n      <th>daynight</th>\n      <th>type</th>\n    </tr>\n  </thead>\n  <tbody>\n    <tr>\n      <th>0</th>\n      <td>-11.8070</td>\n      <td>142.0583</td>\n      <td>313.0</td>\n      <td>1.0</td>\n      <td>1.0</td>\n      <td>2019-08-01</td>\n      <td>56</td>\n      <td>Terra</td>\n      <td>MODIS</td>\n      <td>48</td>\n      <td>6.3</td>\n      <td>297.3</td>\n      <td>6.6</td>\n      <td>D</td>\n      <td>0</td>\n    </tr>\n    <tr>\n      <th>1</th>\n      <td>-11.7924</td>\n      <td>142.0850</td>\n      <td>319.3</td>\n      <td>1.0</td>\n      <td>1.0</td>\n      <td>2019-08-01</td>\n      <td>56</td>\n      <td>Terra</td>\n      <td>MODIS</td>\n      <td>71</td>\n      <td>6.3</td>\n      <td>297.3</td>\n      <td>11.3</td>\n      <td>D</td>\n      <td>0</td>\n    </tr>\n    <tr>\n      <th>2</th>\n      <td>-12.8398</td>\n      <td>132.8744</td>\n      <td>311.6</td>\n      <td>3.1</td>\n      <td>1.7</td>\n      <td>2019-08-01</td>\n      <td>57</td>\n      <td>Terra</td>\n      <td>MODIS</td>\n      <td>42</td>\n      <td>6.3</td>\n      <td>298.7</td>\n      <td>23.1</td>\n      <td>D</td>\n      <td>0</td>\n    </tr>\n    <tr>\n      <th>3</th>\n      <td>-14.4306</td>\n      <td>143.3035</td>\n      <td>310.1</td>\n      <td>1.1</td>\n      <td>1.1</td>\n      <td>2019-08-01</td>\n      <td>57</td>\n      <td>Terra</td>\n      <td>MODIS</td>\n      <td>33</td>\n      <td>6.3</td>\n      <td>296.1</td>\n      <td>6.5</td>\n      <td>D</td>\n      <td>0</td>\n    </tr>\n    <tr>\n      <th>4</th>\n      <td>-12.4953</td>\n      <td>131.4897</td>\n      <td>310.3</td>\n      <td>4.0</td>\n      <td>1.9</td>\n      <td>2019-08-01</td>\n      <td>57</td>\n      <td>Terra</td>\n      <td>MODIS</td>\n      <td>36</td>\n      <td>6.3</td>\n      <td>298.8</td>\n      <td>27.6</td>\n      <td>D</td>\n      <td>0</td>\n    </tr>\n  </tbody>\n</table>\n</div>",
            "text/plain": "   latitude  longitude  brightness  scan  track    acq_date  acq_time  \\\n0  -11.8070   142.0583       313.0   1.0    1.0  2019-08-01        56   \n1  -11.7924   142.0850       319.3   1.0    1.0  2019-08-01        56   \n2  -12.8398   132.8744       311.6   3.1    1.7  2019-08-01        57   \n3  -14.4306   143.3035       310.1   1.1    1.1  2019-08-01        57   \n4  -12.4953   131.4897       310.3   4.0    1.9  2019-08-01        57   \n\n  satellite instrument  confidence  version  bright_t31   frp daynight  type  \n0     Terra      MODIS          48      6.3       297.3   6.6        D     0  \n1     Terra      MODIS          71      6.3       297.3  11.3        D     0  \n2     Terra      MODIS          42      6.3       298.7  23.1        D     0  \n3     Terra      MODIS          33      6.3       296.1   6.5        D     0  \n4     Terra      MODIS          36      6.3       298.8  27.6        D     0  "
          },
          "metadata": {}
        }
      ]
    },
    {
      "metadata": {
        "trusted": true
      },
      "cell_type": "code",
      "source": "#determine the dimension of the dataset\ndf.shape",
      "execution_count": 23,
      "outputs": [
        {
          "output_type": "execute_result",
          "execution_count": 23,
          "data": {
            "text/plain": "(36011, 15)"
          },
          "metadata": {}
        }
      ]
    },
    {
      "metadata": {
        "trusted": true
      },
      "cell_type": "code",
      "source": "#determine whether there are any null values in the dataset\ndf.isnull().values.any()",
      "execution_count": 24,
      "outputs": [
        {
          "output_type": "execute_result",
          "execution_count": 24,
          "data": {
            "text/plain": "False"
          },
          "metadata": {}
        }
      ]
    },
    {
      "metadata": {
        "trusted": true
      },
      "cell_type": "code",
      "source": "#create a new DataFrame which contains only the necessary columns\ndf = pd.DataFrame(df, columns = ['latitude','longitude','daynight','frp','confidence','brightness']) \ndf.head()",
      "execution_count": 25,
      "outputs": [
        {
          "output_type": "execute_result",
          "execution_count": 25,
          "data": {
            "text/html": "<div>\n<style scoped>\n    .dataframe tbody tr th:only-of-type {\n        vertical-align: middle;\n    }\n\n    .dataframe tbody tr th {\n        vertical-align: top;\n    }\n\n    .dataframe thead th {\n        text-align: right;\n    }\n</style>\n<table border=\"1\" class=\"dataframe\">\n  <thead>\n    <tr style=\"text-align: right;\">\n      <th></th>\n      <th>latitude</th>\n      <th>longitude</th>\n      <th>daynight</th>\n      <th>frp</th>\n      <th>confidence</th>\n      <th>brightness</th>\n    </tr>\n  </thead>\n  <tbody>\n    <tr>\n      <th>0</th>\n      <td>-11.8070</td>\n      <td>142.0583</td>\n      <td>D</td>\n      <td>6.6</td>\n      <td>48</td>\n      <td>313.0</td>\n    </tr>\n    <tr>\n      <th>1</th>\n      <td>-11.7924</td>\n      <td>142.0850</td>\n      <td>D</td>\n      <td>11.3</td>\n      <td>71</td>\n      <td>319.3</td>\n    </tr>\n    <tr>\n      <th>2</th>\n      <td>-12.8398</td>\n      <td>132.8744</td>\n      <td>D</td>\n      <td>23.1</td>\n      <td>42</td>\n      <td>311.6</td>\n    </tr>\n    <tr>\n      <th>3</th>\n      <td>-14.4306</td>\n      <td>143.3035</td>\n      <td>D</td>\n      <td>6.5</td>\n      <td>33</td>\n      <td>310.1</td>\n    </tr>\n    <tr>\n      <th>4</th>\n      <td>-12.4953</td>\n      <td>131.4897</td>\n      <td>D</td>\n      <td>27.6</td>\n      <td>36</td>\n      <td>310.3</td>\n    </tr>\n  </tbody>\n</table>\n</div>",
            "text/plain": "   latitude  longitude daynight   frp  confidence  brightness\n0  -11.8070   142.0583        D   6.6          48       313.0\n1  -11.7924   142.0850        D  11.3          71       319.3\n2  -12.8398   132.8744        D  23.1          42       311.6\n3  -14.4306   143.3035        D   6.5          33       310.1\n4  -12.4953   131.4897        D  27.6          36       310.3"
          },
          "metadata": {}
        }
      ]
    },
    {
      "metadata": {
        "trusted": true
      },
      "cell_type": "code",
      "source": "#Next step is to convert the latitude & longitude coordinates into their corresponding State name for easy identificatin\n#It can be done using Reverse_Geocoder module\nsubset = df[['latitude', 'longitude']]\ncoordinates = [tuple(x) for x in subset.values]\n#Print the first 5 coordinates\ncoordinates[0:5]",
      "execution_count": 26,
      "outputs": [
        {
          "output_type": "execute_result",
          "execution_count": 26,
          "data": {
            "text/plain": "[(-11.807, 142.0583),\n (-11.7924, 142.085),\n (-12.8398, 132.8744),\n (-14.4306, 143.3035),\n (-12.4953, 131.4897)]"
          },
          "metadata": {}
        }
      ]
    },
    {
      "metadata": {
        "trusted": true
      },
      "cell_type": "code",
      "source": "#pass the coordinated values of type list to the reverse_geocoder\nresult = rg.search(coordinates)\n#get the values from the result and store in a separate column \"State\"\ni = 0\nrow_count = df.shape[0] #return the total number of rows\nLocation = [] #empty list\n#the while loop will execute until the value of i<row_count i.e., 36011\nwhile(i<row_count):\n    Location.append(result[i]['admin1']) # append the empty list with the result from the reverse_geocoder\n    i += 1\n#store the location values in a separate column \"State\"    \ndf[\"State\"] = Location\n\ndf.head()",
      "execution_count": 27,
      "outputs": [
        {
          "output_type": "execute_result",
          "execution_count": 27,
          "data": {
            "text/html": "<div>\n<style scoped>\n    .dataframe tbody tr th:only-of-type {\n        vertical-align: middle;\n    }\n\n    .dataframe tbody tr th {\n        vertical-align: top;\n    }\n\n    .dataframe thead th {\n        text-align: right;\n    }\n</style>\n<table border=\"1\" class=\"dataframe\">\n  <thead>\n    <tr style=\"text-align: right;\">\n      <th></th>\n      <th>latitude</th>\n      <th>longitude</th>\n      <th>daynight</th>\n      <th>frp</th>\n      <th>confidence</th>\n      <th>brightness</th>\n      <th>State</th>\n    </tr>\n  </thead>\n  <tbody>\n    <tr>\n      <th>0</th>\n      <td>-11.8070</td>\n      <td>142.0583</td>\n      <td>D</td>\n      <td>6.6</td>\n      <td>48</td>\n      <td>313.0</td>\n      <td>Queensland</td>\n    </tr>\n    <tr>\n      <th>1</th>\n      <td>-11.7924</td>\n      <td>142.0850</td>\n      <td>D</td>\n      <td>11.3</td>\n      <td>71</td>\n      <td>319.3</td>\n      <td>Queensland</td>\n    </tr>\n    <tr>\n      <th>2</th>\n      <td>-12.8398</td>\n      <td>132.8744</td>\n      <td>D</td>\n      <td>23.1</td>\n      <td>42</td>\n      <td>311.6</td>\n      <td>Northern Territory</td>\n    </tr>\n    <tr>\n      <th>3</th>\n      <td>-14.4306</td>\n      <td>143.3035</td>\n      <td>D</td>\n      <td>6.5</td>\n      <td>33</td>\n      <td>310.1</td>\n      <td>Queensland</td>\n    </tr>\n    <tr>\n      <th>4</th>\n      <td>-12.4953</td>\n      <td>131.4897</td>\n      <td>D</td>\n      <td>27.6</td>\n      <td>36</td>\n      <td>310.3</td>\n      <td>Northern Territory</td>\n    </tr>\n  </tbody>\n</table>\n</div>",
            "text/plain": "   latitude  longitude daynight   frp  confidence  brightness  \\\n0  -11.8070   142.0583        D   6.6          48       313.0   \n1  -11.7924   142.0850        D  11.3          71       319.3   \n2  -12.8398   132.8744        D  23.1          42       311.6   \n3  -14.4306   143.3035        D   6.5          33       310.1   \n4  -12.4953   131.4897        D  27.6          36       310.3   \n\n                State  \n0          Queensland  \n1          Queensland  \n2  Northern Territory  \n3          Queensland  \n4  Northern Territory  "
          },
          "metadata": {}
        }
      ]
    },
    {
      "metadata": {},
      "cell_type": "markdown",
      "source": "##### VISUALIZATION OF BUSHFIRE DATA"
    },
    {
      "metadata": {
        "trusted": true
      },
      "cell_type": "code",
      "source": "df.State.unique()\n#The number of bush fires recorded per State\ndf['State'].value_counts()",
      "execution_count": 28,
      "outputs": [
        {
          "output_type": "execute_result",
          "execution_count": 28,
          "data": {
            "text/plain": "Northern Territory              14462\nQueensland                      10172\nNew South Wales                  6547\nWestern Australia                4417\nSouth Australia                   178\nTasmania                          125\nVictoria                          109\nAustralian Capital Territory        1\nName: State, dtype: int64"
          },
          "metadata": {}
        }
      ]
    },
    {
      "metadata": {
        "trusted": true
      },
      "cell_type": "code",
      "source": "#Brightness temperature per State\nsb.barplot(x='brightness', y='State', data=df)",
      "execution_count": 29,
      "outputs": [
        {
          "output_type": "stream",
          "text": "/home/nbuser/anaconda3_501/lib/python3.6/site-packages/scipy/stats/stats.py:1713: FutureWarning: Using a non-tuple sequence for multidimensional indexing is deprecated; use `arr[tuple(seq)]` instead of `arr[seq]`. In the future this will be interpreted as an array index, `arr[np.array(seq)]`, which will result either in an error or a different result.\n  return np.add.reduce(sorted[indexer] * weights, axis=axis) / sumval\n",
          "name": "stderr"
        },
        {
          "output_type": "execute_result",
          "execution_count": 29,
          "data": {
            "text/plain": "<matplotlib.axes._subplots.AxesSubplot at 0x7f9c3b12c3c8>"
          },
          "metadata": {}
        },
        {
          "output_type": "display_data",
          "data": {
            "image/png": "[encoded data removed]",
            "text/plain": "<Figure size 432x288 with 1 Axes>"
          },
          "metadata": {
            "needs_background": "light"
          }
        }
      ]
    },
    {
      "metadata": {
        "trusted": true
      },
      "cell_type": "code",
      "source": "sb.countplot(y='State', data=df)",
      "execution_count": 30,
      "outputs": [
        {
          "output_type": "execute_result",
          "execution_count": 30,
          "data": {
            "text/plain": "<matplotlib.axes._subplots.AxesSubplot at 0x7f9c7ea5dac8>"
          },
          "metadata": {}
        },
        {
          "output_type": "display_data",
          "data": {
            "image/png": "[encoded data removed]",
            "text/plain": "<Figure size 432x288 with 1 Axes>"
          },
          "metadata": {
            "needs_background": "light"
          }
        }
      ]
    },
    {
      "metadata": {},
      "cell_type": "markdown",
      "source": "##### SEPARATION OF INPUT & TARGET VARIABLE"
    },
    {
      "metadata": {
        "trusted": true
      },
      "cell_type": "code",
      "source": "df.head()",
      "execution_count": 31,
      "outputs": [
        {
          "output_type": "execute_result",
          "execution_count": 31,
          "data": {
            "text/html": "<div>\n<style scoped>\n    .dataframe tbody tr th:only-of-type {\n        vertical-align: middle;\n    }\n\n    .dataframe tbody tr th {\n        vertical-align: top;\n    }\n\n    .dataframe thead th {\n        text-align: right;\n    }\n</style>\n<table border=\"1\" class=\"dataframe\">\n  <thead>\n    <tr style=\"text-align: right;\">\n      <th></th>\n      <th>latitude</th>\n      <th>longitude</th>\n      <th>daynight</th>\n      <th>frp</th>\n      <th>confidence</th>\n      <th>brightness</th>\n      <th>State</th>\n    </tr>\n  </thead>\n  <tbody>\n    <tr>\n      <th>0</th>\n      <td>-11.8070</td>\n      <td>142.0583</td>\n      <td>D</td>\n      <td>6.6</td>\n      <td>48</td>\n      <td>313.0</td>\n      <td>Queensland</td>\n    </tr>\n    <tr>\n      <th>1</th>\n      <td>-11.7924</td>\n      <td>142.0850</td>\n      <td>D</td>\n      <td>11.3</td>\n      <td>71</td>\n      <td>319.3</td>\n      <td>Queensland</td>\n    </tr>\n    <tr>\n      <th>2</th>\n      <td>-12.8398</td>\n      <td>132.8744</td>\n      <td>D</td>\n      <td>23.1</td>\n      <td>42</td>\n      <td>311.6</td>\n      <td>Northern Territory</td>\n    </tr>\n    <tr>\n      <th>3</th>\n      <td>-14.4306</td>\n      <td>143.3035</td>\n      <td>D</td>\n      <td>6.5</td>\n      <td>33</td>\n      <td>310.1</td>\n      <td>Queensland</td>\n    </tr>\n    <tr>\n      <th>4</th>\n      <td>-12.4953</td>\n      <td>131.4897</td>\n      <td>D</td>\n      <td>27.6</td>\n      <td>36</td>\n      <td>310.3</td>\n      <td>Northern Territory</td>\n    </tr>\n  </tbody>\n</table>\n</div>",
            "text/plain": "   latitude  longitude daynight   frp  confidence  brightness  \\\n0  -11.8070   142.0583        D   6.6          48       313.0   \n1  -11.7924   142.0850        D  11.3          71       319.3   \n2  -12.8398   132.8744        D  23.1          42       311.6   \n3  -14.4306   143.3035        D   6.5          33       310.1   \n4  -12.4953   131.4897        D  27.6          36       310.3   \n\n                State  \n0          Queensland  \n1          Queensland  \n2  Northern Territory  \n3          Queensland  \n4  Northern Territory  "
          },
          "metadata": {}
        }
      ]
    },
    {
      "metadata": {},
      "cell_type": "markdown",
      "source": "**Before building the model, the dataset need to be analysed. The dataset has has 5 feature columns (latitude, longitude, daynight, frp, confidence) and one target variable (brightness)**"
    },
    {
      "metadata": {
        "trusted": true
      },
      "cell_type": "code",
      "source": "#get the values of the target variable brightness in quantile\n#df['brightness'].describe()\ndf['brightness'].quantile([0,0.3,0.6,0.9])",
      "execution_count": 43,
      "outputs": [
        {
          "output_type": "execute_result",
          "execution_count": 43,
          "data": {
            "text/plain": "0.0    300.0\n0.3    319.1\n0.6    329.7\n0.9    351.0\nName: brightness, dtype: float64"
          },
          "metadata": {}
        }
      ]
    },
    {
      "metadata": {},
      "cell_type": "markdown",
      "source": "**The target variable 'brightness' is continuous. The classifier only accepts categorical values. So we have to convert the target variable to categorical**"
    },
    {
      "metadata": {
        "trusted": true
      },
      "cell_type": "code",
      "source": "#categorize the brightness temperature as low, medium & extreme\nbrightness = []\ni = 0\nwhile(i<row_count):\n        if df['brightness'][i] < 329.7:\n            brightness.append(\"Low\")\n        elif 329.7 <= df[\"brightness\"][i] <= 351.0:\n            brightness.append(\"High\")\n        else: \n            brightness.append(\"Extreme\")  \n        i += 1\ndf[\"brightness\"] = brightness\ndf.head()",
      "execution_count": 44,
      "outputs": [
        {
          "output_type": "execute_result",
          "execution_count": 44,
          "data": {
            "text/html": "<div>\n<style scoped>\n    .dataframe tbody tr th:only-of-type {\n        vertical-align: middle;\n    }\n\n    .dataframe tbody tr th {\n        vertical-align: top;\n    }\n\n    .dataframe thead th {\n        text-align: right;\n    }\n</style>\n<table border=\"1\" class=\"dataframe\">\n  <thead>\n    <tr style=\"text-align: right;\">\n      <th></th>\n      <th>latitude</th>\n      <th>longitude</th>\n      <th>daynight</th>\n      <th>frp</th>\n      <th>confidence</th>\n      <th>brightness</th>\n      <th>State</th>\n    </tr>\n  </thead>\n  <tbody>\n    <tr>\n      <th>0</th>\n      <td>-11.8070</td>\n      <td>142.0583</td>\n      <td>D</td>\n      <td>6.6</td>\n      <td>48</td>\n      <td>Low</td>\n      <td>Queensland</td>\n    </tr>\n    <tr>\n      <th>1</th>\n      <td>-11.7924</td>\n      <td>142.0850</td>\n      <td>D</td>\n      <td>11.3</td>\n      <td>71</td>\n      <td>Low</td>\n      <td>Queensland</td>\n    </tr>\n    <tr>\n      <th>2</th>\n      <td>-12.8398</td>\n      <td>132.8744</td>\n      <td>D</td>\n      <td>23.1</td>\n      <td>42</td>\n      <td>Low</td>\n      <td>Northern Territory</td>\n    </tr>\n    <tr>\n      <th>3</th>\n      <td>-14.4306</td>\n      <td>143.3035</td>\n      <td>D</td>\n      <td>6.5</td>\n      <td>33</td>\n      <td>Low</td>\n      <td>Queensland</td>\n    </tr>\n    <tr>\n      <th>4</th>\n      <td>-12.4953</td>\n      <td>131.4897</td>\n      <td>D</td>\n      <td>27.6</td>\n      <td>36</td>\n      <td>Low</td>\n      <td>Northern Territory</td>\n    </tr>\n  </tbody>\n</table>\n</div>",
            "text/plain": "   latitude  longitude daynight   frp  confidence brightness  \\\n0  -11.8070   142.0583        D   6.6          48        Low   \n1  -11.7924   142.0850        D  11.3          71        Low   \n2  -12.8398   132.8744        D  23.1          42        Low   \n3  -14.4306   143.3035        D   6.5          33        Low   \n4  -12.4953   131.4897        D  27.6          36        Low   \n\n                State  \n0          Queensland  \n1          Queensland  \n2  Northern Territory  \n3          Queensland  \n4  Northern Territory  "
          },
          "metadata": {}
        }
      ]
    },
    {
      "metadata": {
        "trusted": true
      },
      "cell_type": "code",
      "source": "mapping = {'Queensland': 0, 'Northern Territory': 1, 'Western Australia':2, 'New South Wales':3, 'Tasmania':4, 'South Australia':5, 'Victoria':6, 'Australian Capital Territory':7}\ndf[\"State\"].replace(mapping, inplace=True)\nmapping1 = {'Low':0, 'High':1, 'Extreme':2}\ndf[\"brightness\"].replace(mapping1, inplace=True)\nmapping3 ={'D':0,'N':1}\ndf[\"daynight\"].replace(mapping3, inplace=True)\ndf.head()",
      "execution_count": 45,
      "outputs": [
        {
          "output_type": "execute_result",
          "execution_count": 45,
          "data": {
            "text/html": "<div>\n<style scoped>\n    .dataframe tbody tr th:only-of-type {\n        vertical-align: middle;\n    }\n\n    .dataframe tbody tr th {\n        vertical-align: top;\n    }\n\n    .dataframe thead th {\n        text-align: right;\n    }\n</style>\n<table border=\"1\" class=\"dataframe\">\n  <thead>\n    <tr style=\"text-align: right;\">\n      <th></th>\n      <th>latitude</th>\n      <th>longitude</th>\n      <th>daynight</th>\n      <th>frp</th>\n      <th>confidence</th>\n      <th>brightness</th>\n      <th>State</th>\n    </tr>\n  </thead>\n  <tbody>\n    <tr>\n      <th>0</th>\n      <td>-11.8070</td>\n      <td>142.0583</td>\n      <td>0</td>\n      <td>6.6</td>\n      <td>48</td>\n      <td>0</td>\n      <td>0</td>\n    </tr>\n    <tr>\n      <th>1</th>\n      <td>-11.7924</td>\n      <td>142.0850</td>\n      <td>0</td>\n      <td>11.3</td>\n      <td>71</td>\n      <td>0</td>\n      <td>0</td>\n    </tr>\n    <tr>\n      <th>2</th>\n      <td>-12.8398</td>\n      <td>132.8744</td>\n      <td>0</td>\n      <td>23.1</td>\n      <td>42</td>\n      <td>0</td>\n      <td>1</td>\n    </tr>\n    <tr>\n      <th>3</th>\n      <td>-14.4306</td>\n      <td>143.3035</td>\n      <td>0</td>\n      <td>6.5</td>\n      <td>33</td>\n      <td>0</td>\n      <td>0</td>\n    </tr>\n    <tr>\n      <th>4</th>\n      <td>-12.4953</td>\n      <td>131.4897</td>\n      <td>0</td>\n      <td>27.6</td>\n      <td>36</td>\n      <td>0</td>\n      <td>1</td>\n    </tr>\n  </tbody>\n</table>\n</div>",
            "text/plain": "   latitude  longitude  daynight   frp  confidence  brightness  State\n0  -11.8070   142.0583         0   6.6          48           0      0\n1  -11.7924   142.0850         0  11.3          71           0      0\n2  -12.8398   132.8744         0  23.1          42           0      1\n3  -14.4306   143.3035         0   6.5          33           0      0\n4  -12.4953   131.4897         0  27.6          36           0      1"
          },
          "metadata": {}
        }
      ]
    },
    {
      "metadata": {
        "trusted": true
      },
      "cell_type": "code",
      "source": "train_data  = df[[\"latitude\",\"longitude\",\"State\",\"frp\",\"daynight\",\"confidence\",\"brightness\"]]\ntrain_data.head()",
      "execution_count": 46,
      "outputs": [
        {
          "output_type": "execute_result",
          "execution_count": 46,
          "data": {
            "text/html": "<div>\n<style scoped>\n    .dataframe tbody tr th:only-of-type {\n        vertical-align: middle;\n    }\n\n    .dataframe tbody tr th {\n        vertical-align: top;\n    }\n\n    .dataframe thead th {\n        text-align: right;\n    }\n</style>\n<table border=\"1\" class=\"dataframe\">\n  <thead>\n    <tr style=\"text-align: right;\">\n      <th></th>\n      <th>latitude</th>\n      <th>longitude</th>\n      <th>State</th>\n      <th>frp</th>\n      <th>daynight</th>\n      <th>confidence</th>\n      <th>brightness</th>\n    </tr>\n  </thead>\n  <tbody>\n    <tr>\n      <th>0</th>\n      <td>-11.8070</td>\n      <td>142.0583</td>\n      <td>0</td>\n      <td>6.6</td>\n      <td>0</td>\n      <td>48</td>\n      <td>0</td>\n    </tr>\n    <tr>\n      <th>1</th>\n      <td>-11.7924</td>\n      <td>142.0850</td>\n      <td>0</td>\n      <td>11.3</td>\n      <td>0</td>\n      <td>71</td>\n      <td>0</td>\n    </tr>\n    <tr>\n      <th>2</th>\n      <td>-12.8398</td>\n      <td>132.8744</td>\n      <td>1</td>\n      <td>23.1</td>\n      <td>0</td>\n      <td>42</td>\n      <td>0</td>\n    </tr>\n    <tr>\n      <th>3</th>\n      <td>-14.4306</td>\n      <td>143.3035</td>\n      <td>0</td>\n      <td>6.5</td>\n      <td>0</td>\n      <td>33</td>\n      <td>0</td>\n    </tr>\n    <tr>\n      <th>4</th>\n      <td>-12.4953</td>\n      <td>131.4897</td>\n      <td>1</td>\n      <td>27.6</td>\n      <td>0</td>\n      <td>36</td>\n      <td>0</td>\n    </tr>\n  </tbody>\n</table>\n</div>",
            "text/plain": "   latitude  longitude  State   frp  daynight  confidence  brightness\n0  -11.8070   142.0583      0   6.6         0          48           0\n1  -11.7924   142.0850      0  11.3         0          71           0\n2  -12.8398   132.8744      1  23.1         0          42           0\n3  -14.4306   143.3035      0   6.5         0          33           0\n4  -12.4953   131.4897      1  27.6         0          36           0"
          },
          "metadata": {}
        }
      ]
    },
    {
      "metadata": {
        "trusted": true
      },
      "cell_type": "code",
      "source": "X = train_data.drop(\"brightness\", axis=1).fillna(0)\ny = train_data[\"brightness\"].values\nX.shape, y.shape",
      "execution_count": 47,
      "outputs": [
        {
          "output_type": "execute_result",
          "execution_count": 47,
          "data": {
            "text/plain": "((36011, 6), (36011,))"
          },
          "metadata": {}
        }
      ]
    },
    {
      "metadata": {},
      "cell_type": "markdown",
      "source": "##### SPLIT THE DATASET INTO TRAINING & TESTING"
    },
    {
      "metadata": {
        "trusted": true
      },
      "cell_type": "code",
      "source": "#split dataset into train and test data (80% training & 20% testing)\nX_train, X_test, y_train, y_test = train_test_split(X, y, test_size=0.2, random_state=1,stratify=y)\nX_train.shape,X_test.shape,y_train.shape,y_test.shape",
      "execution_count": 48,
      "outputs": [
        {
          "output_type": "execute_result",
          "execution_count": 48,
          "data": {
            "text/plain": "((28808, 6), (7203, 6), (28808,), (7203,))"
          },
          "metadata": {}
        }
      ]
    },
    {
      "metadata": {
        "trusted": true
      },
      "cell_type": "markdown",
      "source": "##### K-NEAREST NEIGHBOR CLASSIFICATION"
    },
    {
      "metadata": {
        "trusted": true
      },
      "cell_type": "code",
      "source": "# Create KNN classifier\nknn = KNeighborsClassifier(n_neighbors = 3)\n# Fit the classifier to the data\nknn.fit(X_train,y_train)\n#check accuracy of our model on the test data\ny_pred = knn.predict(X_test)\nprint(\"Accuracy:\",knn.score(X_test, y_test))\nprint(\"Mean Absolute Error:\",mean_absolute_error(y_test, y_pred))",
      "execution_count": 49,
      "outputs": [
        {
          "output_type": "stream",
          "text": "Accuracy: 0.814382896015549\nMean Absolute Error: 0.19214216298764403\n",
          "name": "stdout"
        }
      ]
    },
    {
      "metadata": {},
      "cell_type": "markdown",
      "source": "**The accuracy of K-Nearest Neighbor Classifier is 81.4%. The performance of the classifier can be improved by selecting the optimal nearest neighbors. It can be done with GridSearchCV**"
    },
    {
      "metadata": {},
      "cell_type": "markdown",
      "source": "##### Hypertuning model parameters using GridSearchCV"
    },
    {
      "metadata": {
        "trusted": true
      },
      "cell_type": "code",
      "source": "#create new a knn model\nknn2 = KNeighborsClassifier()\n#create a dictionary of all values we want to test for n_neighbors\nparam_grid = {'n_neighbors': np.arange(1, 25)}\n#use gridsearch to test all values for n_neighbors\nknn_gscv = GridSearchCV(knn2, param_grid, cv=5)\n#fit model to data\nknn_gscv.fit(X, y)",
      "execution_count": 51,
      "outputs": [
        {
          "output_type": "execute_result",
          "execution_count": 51,
          "data": {
            "text/plain": "GridSearchCV(cv=5, error_score='raise-deprecating',\n       estimator=KNeighborsClassifier(algorithm='auto', leaf_size=30, metric='minkowski',\n           metric_params=None, n_jobs=None, n_neighbors=5, p=2,\n           weights='uniform'),\n       fit_params=None, iid='warn', n_jobs=None,\n       param_grid={'n_neighbors': array([ 1,  2,  3,  4,  5,  6,  7,  8,  9, 10, 11, 12, 13, 14, 15, 16, 17,\n       18, 19, 20, 21, 22, 23, 24])},\n       pre_dispatch='2*n_jobs', refit=True, return_train_score='warn',\n       scoring=None, verbose=0)"
          },
          "metadata": {}
        }
      ]
    },
    {
      "metadata": {
        "trusted": true
      },
      "cell_type": "code",
      "source": "#check top performing n_neighbors value\nknn_gscv.best_params_",
      "execution_count": 52,
      "outputs": [
        {
          "output_type": "execute_result",
          "execution_count": 52,
          "data": {
            "text/plain": "{'n_neighbors': 24}"
          },
          "metadata": {}
        }
      ]
    },
    {
      "metadata": {
        "trusted": true
      },
      "cell_type": "code",
      "source": "#check mean score for the top performing value of n_neighbors\nprint(\"Accuracy:\",knn_gscv.best_score_)",
      "execution_count": 53,
      "outputs": [
        {
          "output_type": "stream",
          "text": "Accuracy: 0.8262475354752714\n",
          "name": "stdout"
        }
      ]
    },
    {
      "metadata": {},
      "cell_type": "markdown",
      "source": "**The accuracy is improved, 82.6% with the selection of optimal nearest neighbors (n=24).** "
    },
    {
      "metadata": {},
      "cell_type": "markdown",
      "source": "##### DECISION TREE CLASSIFIER"
    },
    {
      "metadata": {
        "trusted": true
      },
      "cell_type": "code",
      "source": "dt = DecisionTreeClassifier()\ndt.fit(X_train,y_train)\n#check accuracy of our model on the test data\ny_pred = dt.predict(X_test)\nprint(\"Accuracy:\",dt.score(X_test, y_test))\nprint(\"Mean Absolute Error:\",mean_absolute_error(y_test, y_pred))",
      "execution_count": 54,
      "outputs": [
        {
          "output_type": "stream",
          "text": "Accuracy: 0.8357628765792031\nMean Absolute Error: 0.167569068443704\n",
          "name": "stdout"
        }
      ]
    },
    {
      "metadata": {},
      "cell_type": "markdown",
      "source": "##### RANDOM FOREST CLASSIFIER"
    },
    {
      "metadata": {
        "trusted": true
      },
      "cell_type": "code",
      "source": "random_forest = RandomForestClassifier(n_estimators=100, max_depth=100)\nrandom_forest.fit(X_train, y_train)\nY_pred = random_forest.predict(X_test)\nprint(\"Accuracy:\",random_forest.score(X_test, y_test))\nprint(\"Mean Absolute Error:\",mean_absolute_error(y_test, Y_pred))",
      "execution_count": 55,
      "outputs": [
        {
          "output_type": "stream",
          "text": "Accuracy: 0.8732472580869083\nMean Absolute Error: 0.12939053172289325\n",
          "name": "stdout"
        }
      ]
    },
    {
      "metadata": {
        "trusted": true
      },
      "cell_type": "code",
      "source": "#confusion matrix\nconf_mat = confusion_matrix(y_test, Y_pred)\n#visualization of confusion matrix using seaborn\nsb.set(font_scale=1) \nsb.heatmap(conf_mat,annot=True,cmap='Blues', fmt='g')\nprint(\"Report:\")\nprint(classification_report(y_test, Y_pred))",
      "execution_count": 56,
      "outputs": [
        {
          "output_type": "stream",
          "text": "Report:\n              precision    recall  f1-score   support\n\n           0       0.88      0.94      0.91      4314\n           1       0.83      0.74      0.78      2170\n           2       0.94      0.88      0.91       719\n\n   micro avg       0.87      0.87      0.87      7203\n   macro avg       0.88      0.85      0.87      7203\nweighted avg       0.87      0.87      0.87      7203\n\n",
          "name": "stdout"
        },
        {
          "output_type": "display_data",
          "data": {
            "image/png": "[encoded data removed]",
            "text/plain": "<Figure size 432x288 with 2 Axes>"
          },
          "metadata": {}
        }
      ]
    },
    {
      "metadata": {},
      "cell_type": "markdown",
      "source": "**The accuracy of the model is 87.3% with the Random Forest Classifier and the Precision & Recall score is pretty good for this model.**"
    }
  ],
  "metadata": {
    "kernelspec": {
      "name": "python36",
      "display_name": "Python 3.6",
      "language": "python"
    },
    "language_info": {
      "mimetype": "text/x-python",
      "nbconvert_exporter": "python",
      "name": "python",
      "pygments_lexer": "ipython3",
      "version": "3.6.6",
      "file_extension": ".py",
      "codemirror_mode": {
        "version": 3,
        "name": "ipython"
      }
    }
  },
  "nbformat": 4,
  "nbformat_minor": 2
}